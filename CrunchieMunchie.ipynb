{
  "nbformat": 4,
  "nbformat_minor": 0,
  "metadata": {
    "colab": {
      "provenance": [],
      "mount_file_id": "1HzLJQ82Pkqe8mjD_Q47CSQCdH3HX4f4t",
      "authorship_tag": "ABX9TyOP6ENg18f+fmkf5AdAxWT6",
      "include_colab_link": true
    },
    "kernelspec": {
      "name": "python3",
      "display_name": "Python 3"
    },
    "language_info": {
      "name": "python"
    }
  },
  "cells": [
    {
      "cell_type": "markdown",
      "metadata": {
        "id": "view-in-github",
        "colab_type": "text"
      },
      "source": [
        "<a href=\"https://colab.research.google.com/github/juanhernandez16/CrunchieMunchie/blob/main/CrunchieMunchie.ipynb\" target=\"_parent\"><img src=\"https://colab.research.google.com/assets/colab-badge.svg\" alt=\"Open In Colab\"/></a>"
      ]
    },
    {
      "cell_type": "code",
      "execution_count": 7,
      "metadata": {
        "colab": {
          "base_uri": "https://localhost:8080/"
        },
        "id": "eW1v1LsYaQm0",
        "outputId": "a38fc0b8-370c-46bc-aef7-2448d9f4b633"
      },
      "outputs": [
        {
          "output_type": "stream",
          "name": "stdout",
          "text": [
            "Calorias de las otras compañias\n",
            "[ 50  50  50  70  70  80  90  90  90  90  90  90  90 100 100 100 100 100\n",
            " 100 100 100 100 100 100 100 100 100 100 100 100 110 110 110 110 110 110\n",
            " 110 110 110 110 110 110 110 110 110 110 110 110 110 110 110 110 110 110\n",
            " 110 110 110 110 110 120 120 120 120 120 120 120 120 120 120 130 130 140\n",
            " 140 140 150 150 160]\n",
            "\n",
            "Promedio de calorias en la competencia:  106.88311688311688\n",
            "Promedio de calorias en las crunchies munchies: 60\n",
            "La diferencia de calorias es de:  46.883116883116884\n",
            "La mediana de las calorias en la competencia:  110.0\n",
            "106.88311688311688 - 110.0 = 3.116883116883116\n",
            "El menor percentil que es mayor a 60 calorias es:  4 , 70.0 calorias\n",
            "El porcentaje de cereales con más de 60 calorías por porción es:  96.1038961038961 %\n",
            "La desviacion estandar de:  19.35718533390827\n"
          ]
        }
      ],
      "source": [
        "import numpy as np\n",
        "calorie_stats = np.array([70,120,70,50,110,110,110,130,90,90,120,110,120,110,110,110,100,110,110,110,100,110,100,100,110,110,100,120,120,110,100,110,100,110,120,120,110,110,110,140,110,100,110,100,150,150,160,100,120,140,90,130,120,100,50,50,100,100,120,100,90,110,110,80,90,90,110,110,90,110,140,100,110,110,100,100,110])\n",
        "average_calories =  np.mean(calorie_stats)\n",
        "median_calories = np.median(np.sort(calorie_stats))\n",
        "\n",
        "i = 0\n",
        "nth_percentile = 0\n",
        "while nth_percentile < 60:\n",
        "  nth_percentile = np.percentile(calorie_stats, i)\n",
        "  i += 1\n",
        "\n",
        "more_calories = (len(calorie_stats[calorie_stats > 60])) / len(calorie_stats) * 100\n",
        "\n",
        "calorie_std = np.std(calorie_stats)\n",
        "print(\"Calorias de las otras compañias\")\n",
        "print(np.sort(calorie_stats))\n",
        "print()\n",
        "print(\"Promedio de calorias en la competencia: \",average_calories)\n",
        "print(\"Promedio de calorias en las crunchies munchies: 60\" )\n",
        "print(\"La diferencia de calorias es de: \",average_calories-60)\n",
        "print(\"La mediana de las calorias en la competencia: \",median_calories)\n",
        "print(average_calories,\"-\",median_calories,\"=\",median_calories-average_calories)\n",
        "print(\"El menor percentil que es mayor a 60 calorias es: \",i-1,\",\",nth_percentile,\"calorias\")\n",
        "print(\"El porcentaje de cereales con más de 60 calorías por porción es: \",more_calories,\"%\")\n",
        "print(\"La desviacion estandar de: \",calorie_std)"
      ]
    },
    {
      "cell_type": "markdown",
      "source": [
        "#Creado por Juan Dario Hernandez Olascoaga\n",
        "(juan.hernandezol@upb.edu.co)\n",
        "000550952"
      ],
      "metadata": {
        "id": "ve0OKEwjqZt8"
      }
    }
  ]
}